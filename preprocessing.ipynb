{
 "cells": [
  {
   "cell_type": "code",
   "execution_count": 12,
   "metadata": {},
   "outputs": [],
   "source": [
    "import numpy as np\n",
    "import pandas as pd\n",
    "import matplotlib.pyplot as plt"
   ]
  },
  {
   "cell_type": "code",
   "execution_count": 13,
   "metadata": {},
   "outputs": [
    {
     "data": {
      "text/html": [
       "<div>\n",
       "<style scoped>\n",
       "    .dataframe tbody tr th:only-of-type {\n",
       "        vertical-align: middle;\n",
       "    }\n",
       "\n",
       "    .dataframe tbody tr th {\n",
       "        vertical-align: top;\n",
       "    }\n",
       "\n",
       "    .dataframe thead th {\n",
       "        text-align: right;\n",
       "    }\n",
       "</style>\n",
       "<table border=\"1\" class=\"dataframe\">\n",
       "  <thead>\n",
       "    <tr style=\"text-align: right;\">\n",
       "      <th></th>\n",
       "      <th>name</th>\n",
       "      <th>stars_count</th>\n",
       "      <th>forks_count</th>\n",
       "      <th>watchers</th>\n",
       "      <th>pull_requests</th>\n",
       "      <th>primary_language</th>\n",
       "      <th>languages_used</th>\n",
       "      <th>commit_count</th>\n",
       "      <th>created_at</th>\n",
       "      <th>licence</th>\n",
       "    </tr>\n",
       "  </thead>\n",
       "  <tbody>\n",
       "    <tr>\n",
       "      <th>0</th>\n",
       "      <td>freeCodeCamp</td>\n",
       "      <td>359805</td>\n",
       "      <td>30814</td>\n",
       "      <td>8448</td>\n",
       "      <td>31867</td>\n",
       "      <td>TypeScript</td>\n",
       "      <td>['TypeScript', 'JavaScript', 'CSS', 'Shell', '...</td>\n",
       "      <td>32231.0</td>\n",
       "      <td>2014-12-24T17:49:19Z</td>\n",
       "      <td>BSD 3-Clause \"New\" or \"Revised\" License</td>\n",
       "    </tr>\n",
       "    <tr>\n",
       "      <th>1</th>\n",
       "      <td>996.ICU</td>\n",
       "      <td>264811</td>\n",
       "      <td>21470</td>\n",
       "      <td>4298</td>\n",
       "      <td>1949</td>\n",
       "      <td>NaN</td>\n",
       "      <td>NaN</td>\n",
       "      <td>3189.0</td>\n",
       "      <td>2019-03-26T07:31:14Z</td>\n",
       "      <td>Other</td>\n",
       "    </tr>\n",
       "    <tr>\n",
       "      <th>2</th>\n",
       "      <td>free-programming-books</td>\n",
       "      <td>262380</td>\n",
       "      <td>53302</td>\n",
       "      <td>9544</td>\n",
       "      <td>8235</td>\n",
       "      <td>NaN</td>\n",
       "      <td>NaN</td>\n",
       "      <td>8286.0</td>\n",
       "      <td>2013-10-11T06:50:37Z</td>\n",
       "      <td>Other</td>\n",
       "    </tr>\n",
       "    <tr>\n",
       "      <th>3</th>\n",
       "      <td>coding-interview-university</td>\n",
       "      <td>244927</td>\n",
       "      <td>65038</td>\n",
       "      <td>8539</td>\n",
       "      <td>867</td>\n",
       "      <td>NaN</td>\n",
       "      <td>NaN</td>\n",
       "      <td>2314.0</td>\n",
       "      <td>2016-06-06T02:34:12Z</td>\n",
       "      <td>Creative Commons Attribution Share Alike 4.0 I...</td>\n",
       "    </tr>\n",
       "    <tr>\n",
       "      <th>4</th>\n",
       "      <td>awesome</td>\n",
       "      <td>235223</td>\n",
       "      <td>24791</td>\n",
       "      <td>7446</td>\n",
       "      <td>1859</td>\n",
       "      <td>NaN</td>\n",
       "      <td>NaN</td>\n",
       "      <td>1074.0</td>\n",
       "      <td>2014-07-11T13:42:37Z</td>\n",
       "      <td>Creative Commons Zero v1.0 Universal</td>\n",
       "    </tr>\n",
       "  </tbody>\n",
       "</table>\n",
       "</div>"
      ],
      "text/plain": [
       "                          name  stars_count  forks_count  watchers  \\\n",
       "0                 freeCodeCamp       359805        30814      8448   \n",
       "1                      996.ICU       264811        21470      4298   \n",
       "2       free-programming-books       262380        53302      9544   \n",
       "3  coding-interview-university       244927        65038      8539   \n",
       "4                      awesome       235223        24791      7446   \n",
       "\n",
       "   pull_requests primary_language  \\\n",
       "0          31867       TypeScript   \n",
       "1           1949              NaN   \n",
       "2           8235              NaN   \n",
       "3            867              NaN   \n",
       "4           1859              NaN   \n",
       "\n",
       "                                      languages_used  commit_count  \\\n",
       "0  ['TypeScript', 'JavaScript', 'CSS', 'Shell', '...       32231.0   \n",
       "1                                                NaN        3189.0   \n",
       "2                                                NaN        8286.0   \n",
       "3                                                NaN        2314.0   \n",
       "4                                                NaN        1074.0   \n",
       "\n",
       "             created_at                                            licence  \n",
       "0  2014-12-24T17:49:19Z            BSD 3-Clause \"New\" or \"Revised\" License  \n",
       "1  2019-03-26T07:31:14Z                                              Other  \n",
       "2  2013-10-11T06:50:37Z                                              Other  \n",
       "3  2016-06-06T02:34:12Z  Creative Commons Attribution Share Alike 4.0 I...  \n",
       "4  2014-07-11T13:42:37Z               Creative Commons Zero v1.0 Universal  "
      ]
     },
     "execution_count": 13,
     "metadata": {},
     "output_type": "execute_result"
    }
   ],
   "source": [
    "small = \"./datasets/github_dataset.csv\"\n",
    "large = \"./datasets/repository_data.csv\"\n",
    "\n",
    "large_df = pd.read_csv(large)\n",
    "large_df.head()"
   ]
  },
  {
   "cell_type": "code",
   "execution_count": 14,
   "metadata": {},
   "outputs": [
    {
     "data": {
      "text/plain": [
       "stars_count           int64\n",
       "forks_count           int64\n",
       "watchers              int64\n",
       "pull_requests         int64\n",
       "commit_count        float64\n",
       "name                 object\n",
       "primary_language     object\n",
       "languages_used       object\n",
       "created_at           object\n",
       "licence              object\n",
       "dtype: object"
      ]
     },
     "execution_count": 14,
     "metadata": {},
     "output_type": "execute_result"
    }
   ],
   "source": [
    "large_df.dtypes.sort_values()"
   ]
  },
  {
   "cell_type": "code",
   "execution_count": 15,
   "metadata": {},
   "outputs": [
    {
     "data": {
      "text/plain": [
       "name                     12\n",
       "primary_language     218573\n",
       "languages_used       221984\n",
       "commit_count           1921\n",
       "licence             1378200\n",
       "dtype: int64"
      ]
     },
     "execution_count": 15,
     "metadata": {},
     "output_type": "execute_result"
    }
   ],
   "source": [
    "large_df.isnull().sum()[large_df.isnull().sum() > 0]"
   ]
  },
  {
   "cell_type": "code",
   "execution_count": 16,
   "metadata": {},
   "outputs": [
    {
     "data": {
      "text/plain": [
       "29179510"
      ]
     },
     "execution_count": 16,
     "metadata": {},
     "output_type": "execute_result"
    }
   ],
   "source": [
    "large_df.size"
   ]
  },
  {
   "cell_type": "code",
   "execution_count": 17,
   "metadata": {},
   "outputs": [],
   "source": [
    "large_df['licence'].fillna('None', inplace=True)\n",
    "large_df = large_df.dropna()"
   ]
  },
  {
   "cell_type": "code",
   "execution_count": 29,
   "metadata": {},
   "outputs": [
    {
     "data": {
      "text/plain": [
       "26959500"
      ]
     },
     "execution_count": 29,
     "metadata": {},
     "output_type": "execute_result"
    }
   ],
   "source": [
    "large_df.size"
   ]
  },
  {
   "cell_type": "code",
   "execution_count": null,
   "metadata": {},
   "outputs": [],
   "source": [
    "# show top 5 primary languages\n",
    "for l in large_df['primary_language'].unique():\n",
    "    cnt = large_df[large_df['primary_language'] == l].size\n",
    "    print(l, cnt)"
   ]
  },
  {
   "cell_type": "code",
   "execution_count": 34,
   "metadata": {},
   "outputs": [
    {
     "data": {
      "text/plain": [
       "497"
      ]
     },
     "execution_count": 34,
     "metadata": {},
     "output_type": "execute_result"
    }
   ],
   "source": [
    "large_df['primary_language'].unique().size"
   ]
  }
 ],
 "metadata": {
  "kernelspec": {
   "display_name": "base",
   "language": "python",
   "name": "python3"
  },
  "language_info": {
   "codemirror_mode": {
    "name": "ipython",
    "version": 3
   },
   "file_extension": ".py",
   "mimetype": "text/x-python",
   "name": "python",
   "nbconvert_exporter": "python",
   "pygments_lexer": "ipython3",
   "version": "3.7.6"
  }
 },
 "nbformat": 4,
 "nbformat_minor": 2
}
