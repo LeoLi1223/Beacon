{
 "cells": [
  {
   "cell_type": "code",
   "execution_count": 1,
   "metadata": {},
   "outputs": [],
   "source": [
    "import numpy as np\n",
    "import pandas as pd\n",
    "import matplotlib.pyplot as plt"
   ]
  },
  {
   "cell_type": "code",
   "execution_count": 2,
   "metadata": {},
   "outputs": [],
   "source": [
    "small = \"./datasets/github_dataset.csv\"\n",
    "large = \"./datasets/repository_data.csv\"\n",
    "\n",
    "# large_df = pd.read_csv(large)\n",
    "# large_df.head()"
   ]
  },
  {
   "cell_type": "code",
   "execution_count": 3,
   "metadata": {},
   "outputs": [
    {
     "data": {
      "text/html": [
       "<div>\n",
       "<style scoped>\n",
       "    .dataframe tbody tr th:only-of-type {\n",
       "        vertical-align: middle;\n",
       "    }\n",
       "\n",
       "    .dataframe tbody tr th {\n",
       "        vertical-align: top;\n",
       "    }\n",
       "\n",
       "    .dataframe thead th {\n",
       "        text-align: right;\n",
       "    }\n",
       "</style>\n",
       "<table border=\"1\" class=\"dataframe\">\n",
       "  <thead>\n",
       "    <tr style=\"text-align: right;\">\n",
       "      <th></th>\n",
       "      <th>repositories</th>\n",
       "      <th>stars_count</th>\n",
       "      <th>forks_count</th>\n",
       "      <th>issues_count</th>\n",
       "      <th>pull_requests</th>\n",
       "      <th>contributors</th>\n",
       "      <th>language</th>\n",
       "    </tr>\n",
       "  </thead>\n",
       "  <tbody>\n",
       "    <tr>\n",
       "      <th>0</th>\n",
       "      <td>octocat/Hello-World</td>\n",
       "      <td>0</td>\n",
       "      <td>0</td>\n",
       "      <td>612</td>\n",
       "      <td>316</td>\n",
       "      <td>2</td>\n",
       "      <td>NaN</td>\n",
       "    </tr>\n",
       "    <tr>\n",
       "      <th>1</th>\n",
       "      <td>EddieHubCommunity/support</td>\n",
       "      <td>271</td>\n",
       "      <td>150</td>\n",
       "      <td>536</td>\n",
       "      <td>6</td>\n",
       "      <td>71</td>\n",
       "      <td>NaN</td>\n",
       "    </tr>\n",
       "    <tr>\n",
       "      <th>2</th>\n",
       "      <td>ethereum/aleth</td>\n",
       "      <td>0</td>\n",
       "      <td>0</td>\n",
       "      <td>313</td>\n",
       "      <td>27</td>\n",
       "      <td>154</td>\n",
       "      <td>C++</td>\n",
       "    </tr>\n",
       "    <tr>\n",
       "      <th>3</th>\n",
       "      <td>localstack/localstack</td>\n",
       "      <td>0</td>\n",
       "      <td>0</td>\n",
       "      <td>290</td>\n",
       "      <td>30</td>\n",
       "      <td>434</td>\n",
       "      <td>Python</td>\n",
       "    </tr>\n",
       "    <tr>\n",
       "      <th>4</th>\n",
       "      <td>education/classroom</td>\n",
       "      <td>0</td>\n",
       "      <td>589</td>\n",
       "      <td>202</td>\n",
       "      <td>22</td>\n",
       "      <td>67</td>\n",
       "      <td>Ruby</td>\n",
       "    </tr>\n",
       "  </tbody>\n",
       "</table>\n",
       "</div>"
      ],
      "text/plain": [
       "                repositories  stars_count  forks_count  issues_count  \\\n",
       "0        octocat/Hello-World            0            0           612   \n",
       "1  EddieHubCommunity/support          271          150           536   \n",
       "2             ethereum/aleth            0            0           313   \n",
       "3      localstack/localstack            0            0           290   \n",
       "4        education/classroom            0          589           202   \n",
       "\n",
       "   pull_requests  contributors language  \n",
       "0            316             2      NaN  \n",
       "1              6            71      NaN  \n",
       "2             27           154      C++  \n",
       "3             30           434   Python  \n",
       "4             22            67     Ruby  "
      ]
     },
     "execution_count": 3,
     "metadata": {},
     "output_type": "execute_result"
    }
   ],
   "source": [
    "df = pd.read_csv(small)\n",
    "df.head()"
   ]
  },
  {
   "cell_type": "code",
   "execution_count": 4,
   "metadata": {},
   "outputs": [
    {
     "data": {
      "text/plain": [
       "language    145\n",
       "dtype: int64"
      ]
     },
     "execution_count": 4,
     "metadata": {},
     "output_type": "execute_result"
    }
   ],
   "source": [
    "df.isnull().sum()[df.isnull().sum()>0]"
   ]
  },
  {
   "cell_type": "code",
   "execution_count": 5,
   "metadata": {},
   "outputs": [
    {
     "data": {
      "text/plain": [
       "array([nan, 'C++', 'Python', 'Ruby', 'Java', 'CSS', 'Jinja', 'Dart',\n",
       "       'JavaScript', 'HTML', 'Objective-C', 'Kotlin', 'AutoHotkey', 'Go',\n",
       "       'Haskell', 'SCSS', 'Jupyter Notebook', 'Vue', 'Shell', 'Rust',\n",
       "       'PowerShell', 'C', 'C#', 'TypeScript', 'Svelte', 'Less', 'QML',\n",
       "       'CoffeeScript', 'Swift', 'Hack', 'PHP', 'Smarty', 'Solidity',\n",
       "       'Dockerfile', 'PureBasic', 'Vim Script', 'R', 'HCL', 'Perl',\n",
       "       'Makefile', 'Roff', 'ActionScript', 'CodeQL', 'Elixir', 'Oz',\n",
       "       'CMake', 'Assembly', 'Pawn', 'Gherkin', 'QMake', 'Cuda',\n",
       "       'SourcePawn'], dtype=object)"
      ]
     },
     "execution_count": 5,
     "metadata": {},
     "output_type": "execute_result"
    }
   ],
   "source": [
    "df['language'].unique()"
   ]
  },
  {
   "cell_type": "code",
   "execution_count": 6,
   "metadata": {},
   "outputs": [],
   "source": [
    "df['language'].fillna(\"Unknown\", inplace=True)"
   ]
  },
  {
   "cell_type": "code",
   "execution_count": 7,
   "metadata": {},
   "outputs": [
    {
     "data": {
      "text/plain": [
       "array(['Unknown', 'C++', 'Python', 'Ruby', 'Java', 'CSS', 'Jinja', 'Dart',\n",
       "       'JavaScript', 'HTML', 'Objective-C', 'Kotlin', 'AutoHotkey', 'Go',\n",
       "       'Haskell', 'SCSS', 'Jupyter Notebook', 'Vue', 'Shell', 'Rust',\n",
       "       'PowerShell', 'C', 'C#', 'TypeScript', 'Svelte', 'Less', 'QML',\n",
       "       'CoffeeScript', 'Swift', 'Hack', 'PHP', 'Smarty', 'Solidity',\n",
       "       'Dockerfile', 'PureBasic', 'Vim Script', 'R', 'HCL', 'Perl',\n",
       "       'Makefile', 'Roff', 'ActionScript', 'CodeQL', 'Elixir', 'Oz',\n",
       "       'CMake', 'Assembly', 'Pawn', 'Gherkin', 'QMake', 'Cuda',\n",
       "       'SourcePawn'], dtype=object)"
      ]
     },
     "execution_count": 7,
     "metadata": {},
     "output_type": "execute_result"
    }
   ],
   "source": [
    "df['language'].unique()"
   ]
  },
  {
   "cell_type": "code",
   "execution_count": 8,
   "metadata": {},
   "outputs": [
    {
     "data": {
      "text/plain": [
       "stars_count       int64\n",
       "forks_count       int64\n",
       "issues_count      int64\n",
       "pull_requests     int64\n",
       "contributors      int64\n",
       "repositories     object\n",
       "language         object\n",
       "dtype: object"
      ]
     },
     "execution_count": 8,
     "metadata": {},
     "output_type": "execute_result"
    }
   ],
   "source": [
    "df.dtypes.sort_values()"
   ]
  },
  {
   "cell_type": "code",
   "execution_count": 9,
   "metadata": {},
   "outputs": [
    {
     "data": {
      "text/html": [
       "<div>\n",
       "<style scoped>\n",
       "    .dataframe tbody tr th:only-of-type {\n",
       "        vertical-align: middle;\n",
       "    }\n",
       "\n",
       "    .dataframe tbody tr th {\n",
       "        vertical-align: top;\n",
       "    }\n",
       "\n",
       "    .dataframe thead th {\n",
       "        text-align: right;\n",
       "    }\n",
       "</style>\n",
       "<table border=\"1\" class=\"dataframe\">\n",
       "  <thead>\n",
       "    <tr style=\"text-align: right;\">\n",
       "      <th></th>\n",
       "      <th>stars_count</th>\n",
       "      <th>forks_count</th>\n",
       "      <th>issues_count</th>\n",
       "      <th>pull_requests</th>\n",
       "      <th>contributors</th>\n",
       "    </tr>\n",
       "  </thead>\n",
       "  <tbody>\n",
       "    <tr>\n",
       "      <th>count</th>\n",
       "      <td>1052.000000</td>\n",
       "      <td>1052.000000</td>\n",
       "      <td>1052.000000</td>\n",
       "      <td>1052.000000</td>\n",
       "      <td>1052.000000</td>\n",
       "    </tr>\n",
       "    <tr>\n",
       "      <th>mean</th>\n",
       "      <td>81.976236</td>\n",
       "      <td>53.884981</td>\n",
       "      <td>8.656844</td>\n",
       "      <td>4.374525</td>\n",
       "      <td>8.364068</td>\n",
       "    </tr>\n",
       "    <tr>\n",
       "      <th>std</th>\n",
       "      <td>170.403116</td>\n",
       "      <td>127.699729</td>\n",
       "      <td>32.445154</td>\n",
       "      <td>27.913732</td>\n",
       "      <td>37.511807</td>\n",
       "    </tr>\n",
       "    <tr>\n",
       "      <th>min</th>\n",
       "      <td>0.000000</td>\n",
       "      <td>0.000000</td>\n",
       "      <td>1.000000</td>\n",
       "      <td>0.000000</td>\n",
       "      <td>0.000000</td>\n",
       "    </tr>\n",
       "    <tr>\n",
       "      <th>25%</th>\n",
       "      <td>1.000000</td>\n",
       "      <td>1.000000</td>\n",
       "      <td>1.000000</td>\n",
       "      <td>0.000000</td>\n",
       "      <td>0.000000</td>\n",
       "    </tr>\n",
       "    <tr>\n",
       "      <th>50%</th>\n",
       "      <td>12.000000</td>\n",
       "      <td>6.000000</td>\n",
       "      <td>2.000000</td>\n",
       "      <td>0.000000</td>\n",
       "      <td>2.000000</td>\n",
       "    </tr>\n",
       "    <tr>\n",
       "      <th>75%</th>\n",
       "      <td>65.250000</td>\n",
       "      <td>38.250000</td>\n",
       "      <td>6.000000</td>\n",
       "      <td>2.000000</td>\n",
       "      <td>4.000000</td>\n",
       "    </tr>\n",
       "    <tr>\n",
       "      <th>max</th>\n",
       "      <td>995.000000</td>\n",
       "      <td>973.000000</td>\n",
       "      <td>612.000000</td>\n",
       "      <td>567.000000</td>\n",
       "      <td>658.000000</td>\n",
       "    </tr>\n",
       "  </tbody>\n",
       "</table>\n",
       "</div>"
      ],
      "text/plain": [
       "       stars_count  forks_count  issues_count  pull_requests  contributors\n",
       "count  1052.000000  1052.000000   1052.000000    1052.000000   1052.000000\n",
       "mean     81.976236    53.884981      8.656844       4.374525      8.364068\n",
       "std     170.403116   127.699729     32.445154      27.913732     37.511807\n",
       "min       0.000000     0.000000      1.000000       0.000000      0.000000\n",
       "25%       1.000000     1.000000      1.000000       0.000000      0.000000\n",
       "50%      12.000000     6.000000      2.000000       0.000000      2.000000\n",
       "75%      65.250000    38.250000      6.000000       2.000000      4.000000\n",
       "max     995.000000   973.000000    612.000000     567.000000    658.000000"
      ]
     },
     "execution_count": 9,
     "metadata": {},
     "output_type": "execute_result"
    }
   ],
   "source": [
    "df.describe()"
   ]
  },
  {
   "cell_type": "code",
   "execution_count": 10,
   "metadata": {},
   "outputs": [],
   "source": [
    "df.drop_duplicates(inplace=True)"
   ]
  },
  {
   "cell_type": "code",
   "execution_count": 11,
   "metadata": {},
   "outputs": [],
   "source": [
    "# repo of {language} sorted by {stars/forks/issues/pull/contributors} in ascending/descending\n",
    "def search_by_lang(df, lang, sorted_key, ascending=True):\n",
    "    result = df.sort_values(sorted_key, ascending=ascending)\n",
    "    result = result[['repositories', sorted_key, 'language']]\n",
    "    result = result[result['language']==lang]\n",
    "    if result.shape[0] < 10:\n",
    "        return result\n",
    "    else:\n",
    "        return result.head(10)"
   ]
  },
  {
   "cell_type": "code",
   "execution_count": 12,
   "metadata": {},
   "outputs": [
    {
     "data": {
      "text/html": [
       "<div>\n",
       "<style scoped>\n",
       "    .dataframe tbody tr th:only-of-type {\n",
       "        vertical-align: middle;\n",
       "    }\n",
       "\n",
       "    .dataframe tbody tr th {\n",
       "        vertical-align: top;\n",
       "    }\n",
       "\n",
       "    .dataframe thead th {\n",
       "        text-align: right;\n",
       "    }\n",
       "</style>\n",
       "<table border=\"1\" class=\"dataframe\">\n",
       "  <thead>\n",
       "    <tr style=\"text-align: right;\">\n",
       "      <th></th>\n",
       "      <th>repositories</th>\n",
       "      <th>forks_count</th>\n",
       "      <th>language</th>\n",
       "    </tr>\n",
       "  </thead>\n",
       "  <tbody>\n",
       "    <tr>\n",
       "      <th>62</th>\n",
       "      <td>loveBabbar/CodeHelp-DSA-Busted-Series</td>\n",
       "      <td>913</td>\n",
       "      <td>C++</td>\n",
       "    </tr>\n",
       "    <tr>\n",
       "      <th>509</th>\n",
       "      <td>Errichto/youtube</td>\n",
       "      <td>486</td>\n",
       "      <td>C++</td>\n",
       "    </tr>\n",
       "    <tr>\n",
       "      <th>91</th>\n",
       "      <td>LiveOverflow/PwnAdventure3</td>\n",
       "      <td>124</td>\n",
       "      <td>C++</td>\n",
       "    </tr>\n",
       "    <tr>\n",
       "      <th>286</th>\n",
       "      <td>garimasingh128/CP-DSA-Cpp-C</td>\n",
       "      <td>89</td>\n",
       "      <td>C++</td>\n",
       "    </tr>\n",
       "    <tr>\n",
       "      <th>530</th>\n",
       "      <td>nayyyhaa/C-codes</td>\n",
       "      <td>32</td>\n",
       "      <td>C++</td>\n",
       "    </tr>\n",
       "    <tr>\n",
       "      <th>264</th>\n",
       "      <td>trailofbits/AppJailLauncher</td>\n",
       "      <td>19</td>\n",
       "      <td>C++</td>\n",
       "    </tr>\n",
       "    <tr>\n",
       "      <th>591</th>\n",
       "      <td>LiveOverflow/NECAnalyzer</td>\n",
       "      <td>17</td>\n",
       "      <td>C++</td>\n",
       "    </tr>\n",
       "    <tr>\n",
       "      <th>952</th>\n",
       "      <td>trailofbits/cfg-showcase</td>\n",
       "      <td>12</td>\n",
       "      <td>C++</td>\n",
       "    </tr>\n",
       "    <tr>\n",
       "      <th>425</th>\n",
       "      <td>trailofbits/constexpr-everything</td>\n",
       "      <td>11</td>\n",
       "      <td>C++</td>\n",
       "    </tr>\n",
       "    <tr>\n",
       "      <th>948</th>\n",
       "      <td>education/autograding-example-cpp</td>\n",
       "      <td>9</td>\n",
       "      <td>C++</td>\n",
       "    </tr>\n",
       "  </tbody>\n",
       "</table>\n",
       "</div>"
      ],
      "text/plain": [
       "                              repositories  forks_count language\n",
       "62   loveBabbar/CodeHelp-DSA-Busted-Series          913      C++\n",
       "509                       Errichto/youtube          486      C++\n",
       "91              LiveOverflow/PwnAdventure3          124      C++\n",
       "286            garimasingh128/CP-DSA-Cpp-C           89      C++\n",
       "530                       nayyyhaa/C-codes           32      C++\n",
       "264            trailofbits/AppJailLauncher           19      C++\n",
       "591               LiveOverflow/NECAnalyzer           17      C++\n",
       "952               trailofbits/cfg-showcase           12      C++\n",
       "425       trailofbits/constexpr-everything           11      C++\n",
       "948      education/autograding-example-cpp            9      C++"
      ]
     },
     "execution_count": 12,
     "metadata": {},
     "output_type": "execute_result"
    }
   ],
   "source": [
    "sort_by_forks = search_by_lang(df, 'C++', 'forks_count', False)\n",
    "sort_by_forks"
   ]
  },
  {
   "cell_type": "code",
   "execution_count": 13,
   "metadata": {},
   "outputs": [
    {
     "data": {
      "text/html": [
       "<div>\n",
       "<style scoped>\n",
       "    .dataframe tbody tr th:only-of-type {\n",
       "        vertical-align: middle;\n",
       "    }\n",
       "\n",
       "    .dataframe tbody tr th {\n",
       "        vertical-align: top;\n",
       "    }\n",
       "\n",
       "    .dataframe thead th {\n",
       "        text-align: right;\n",
       "    }\n",
       "</style>\n",
       "<table border=\"1\" class=\"dataframe\">\n",
       "  <thead>\n",
       "    <tr style=\"text-align: right;\">\n",
       "      <th></th>\n",
       "      <th>repositories</th>\n",
       "      <th>stars_count</th>\n",
       "      <th>language</th>\n",
       "    </tr>\n",
       "  </thead>\n",
       "  <tbody>\n",
       "    <tr>\n",
       "      <th>21</th>\n",
       "      <td>brettkromkamp/contextualise</td>\n",
       "      <td>960</td>\n",
       "      <td>Python</td>\n",
       "    </tr>\n",
       "    <tr>\n",
       "      <th>267</th>\n",
       "      <td>donnemartin/viz</td>\n",
       "      <td>759</td>\n",
       "      <td>Python</td>\n",
       "    </tr>\n",
       "    <tr>\n",
       "      <th>268</th>\n",
       "      <td>localstack/awscli-local</td>\n",
       "      <td>702</td>\n",
       "      <td>Python</td>\n",
       "    </tr>\n",
       "    <tr>\n",
       "      <th>284</th>\n",
       "      <td>byt3bl33d3r/ItWasAllADream</td>\n",
       "      <td>692</td>\n",
       "      <td>Python</td>\n",
       "    </tr>\n",
       "    <tr>\n",
       "      <th>92</th>\n",
       "      <td>ethereum/casper</td>\n",
       "      <td>681</td>\n",
       "      <td>Python</td>\n",
       "    </tr>\n",
       "    <tr>\n",
       "      <th>112</th>\n",
       "      <td>ethereum/btcrelay</td>\n",
       "      <td>564</td>\n",
       "      <td>Python</td>\n",
       "    </tr>\n",
       "    <tr>\n",
       "      <th>90</th>\n",
       "      <td>rupa/epub</td>\n",
       "      <td>360</td>\n",
       "      <td>Python</td>\n",
       "    </tr>\n",
       "    <tr>\n",
       "      <th>131</th>\n",
       "      <td>google/active-qa</td>\n",
       "      <td>339</td>\n",
       "      <td>Python</td>\n",
       "    </tr>\n",
       "    <tr>\n",
       "      <th>43</th>\n",
       "      <td>sagesharp/foss-heartbeat</td>\n",
       "      <td>297</td>\n",
       "      <td>Python</td>\n",
       "    </tr>\n",
       "    <tr>\n",
       "      <th>89</th>\n",
       "      <td>kdeldycke/meta-package-manager</td>\n",
       "      <td>272</td>\n",
       "      <td>Python</td>\n",
       "    </tr>\n",
       "  </tbody>\n",
       "</table>\n",
       "</div>"
      ],
      "text/plain": [
       "                       repositories  stars_count language\n",
       "21      brettkromkamp/contextualise          960   Python\n",
       "267                 donnemartin/viz          759   Python\n",
       "268         localstack/awscli-local          702   Python\n",
       "284      byt3bl33d3r/ItWasAllADream          692   Python\n",
       "92                  ethereum/casper          681   Python\n",
       "112               ethereum/btcrelay          564   Python\n",
       "90                        rupa/epub          360   Python\n",
       "131                google/active-qa          339   Python\n",
       "43         sagesharp/foss-heartbeat          297   Python\n",
       "89   kdeldycke/meta-package-manager          272   Python"
      ]
     },
     "execution_count": 13,
     "metadata": {},
     "output_type": "execute_result"
    }
   ],
   "source": [
    "sort_by_stars = search_by_lang(df, 'Python', 'stars_count', False)\n",
    "sort_by_stars"
   ]
  },
  {
   "cell_type": "code",
   "execution_count": 14,
   "metadata": {},
   "outputs": [
    {
     "data": {
      "text/html": [
       "<div>\n",
       "<style scoped>\n",
       "    .dataframe tbody tr th:only-of-type {\n",
       "        vertical-align: middle;\n",
       "    }\n",
       "\n",
       "    .dataframe tbody tr th {\n",
       "        vertical-align: top;\n",
       "    }\n",
       "\n",
       "    .dataframe thead th {\n",
       "        text-align: right;\n",
       "    }\n",
       "</style>\n",
       "<table border=\"1\" class=\"dataframe\">\n",
       "  <thead>\n",
       "    <tr style=\"text-align: right;\">\n",
       "      <th></th>\n",
       "      <th>repositories</th>\n",
       "      <th>stars_count</th>\n",
       "      <th>forks_count</th>\n",
       "      <th>issues_count</th>\n",
       "      <th>pull_requests</th>\n",
       "      <th>contributors</th>\n",
       "      <th>language</th>\n",
       "    </tr>\n",
       "  </thead>\n",
       "  <tbody>\n",
       "    <tr>\n",
       "      <th>0</th>\n",
       "      <td>octocat/Hello-World</td>\n",
       "      <td>0</td>\n",
       "      <td>0</td>\n",
       "      <td>612</td>\n",
       "      <td>316</td>\n",
       "      <td>2</td>\n",
       "      <td>Unknown</td>\n",
       "    </tr>\n",
       "    <tr>\n",
       "      <th>1</th>\n",
       "      <td>EddieHubCommunity/support</td>\n",
       "      <td>271</td>\n",
       "      <td>150</td>\n",
       "      <td>536</td>\n",
       "      <td>6</td>\n",
       "      <td>71</td>\n",
       "      <td>Unknown</td>\n",
       "    </tr>\n",
       "    <tr>\n",
       "      <th>2</th>\n",
       "      <td>ethereum/aleth</td>\n",
       "      <td>0</td>\n",
       "      <td>0</td>\n",
       "      <td>313</td>\n",
       "      <td>27</td>\n",
       "      <td>154</td>\n",
       "      <td>C++</td>\n",
       "    </tr>\n",
       "    <tr>\n",
       "      <th>3</th>\n",
       "      <td>localstack/localstack</td>\n",
       "      <td>0</td>\n",
       "      <td>0</td>\n",
       "      <td>290</td>\n",
       "      <td>30</td>\n",
       "      <td>434</td>\n",
       "      <td>Python</td>\n",
       "    </tr>\n",
       "    <tr>\n",
       "      <th>4</th>\n",
       "      <td>education/classroom</td>\n",
       "      <td>0</td>\n",
       "      <td>589</td>\n",
       "      <td>202</td>\n",
       "      <td>22</td>\n",
       "      <td>67</td>\n",
       "      <td>Ruby</td>\n",
       "    </tr>\n",
       "    <tr>\n",
       "      <th>...</th>\n",
       "      <td>...</td>\n",
       "      <td>...</td>\n",
       "      <td>...</td>\n",
       "      <td>...</td>\n",
       "      <td>...</td>\n",
       "      <td>...</td>\n",
       "      <td>...</td>\n",
       "    </tr>\n",
       "    <tr>\n",
       "      <th>1047</th>\n",
       "      <td>Tyriar/canvas-astar.dart</td>\n",
       "      <td>2</td>\n",
       "      <td>1</td>\n",
       "      <td>1</td>\n",
       "      <td>0</td>\n",
       "      <td>0</td>\n",
       "      <td>Dart</td>\n",
       "    </tr>\n",
       "    <tr>\n",
       "      <th>1048</th>\n",
       "      <td>ankitkumar70777/github-slideshow</td>\n",
       "      <td>0</td>\n",
       "      <td>0</td>\n",
       "      <td>1</td>\n",
       "      <td>0</td>\n",
       "      <td>8</td>\n",
       "      <td>HTML</td>\n",
       "    </tr>\n",
       "    <tr>\n",
       "      <th>1049</th>\n",
       "      <td>aitikgupta/interactive_cpu_scheduler</td>\n",
       "      <td>0</td>\n",
       "      <td>5</td>\n",
       "      <td>1</td>\n",
       "      <td>1</td>\n",
       "      <td>7</td>\n",
       "      <td>Python</td>\n",
       "    </tr>\n",
       "    <tr>\n",
       "      <th>1050</th>\n",
       "      <td>gwmccubbin/voting_dapp</td>\n",
       "      <td>11</td>\n",
       "      <td>5</td>\n",
       "      <td>1</td>\n",
       "      <td>0</td>\n",
       "      <td>0</td>\n",
       "      <td>JavaScript</td>\n",
       "    </tr>\n",
       "    <tr>\n",
       "      <th>1051</th>\n",
       "      <td>gamemann/All_PropHealth</td>\n",
       "      <td>4</td>\n",
       "      <td>3</td>\n",
       "      <td>1</td>\n",
       "      <td>0</td>\n",
       "      <td>0</td>\n",
       "      <td>SourcePawn</td>\n",
       "    </tr>\n",
       "  </tbody>\n",
       "</table>\n",
       "<p>972 rows × 7 columns</p>\n",
       "</div>"
      ],
      "text/plain": [
       "                              repositories  stars_count  forks_count  \\\n",
       "0                      octocat/Hello-World            0            0   \n",
       "1                EddieHubCommunity/support          271          150   \n",
       "2                           ethereum/aleth            0            0   \n",
       "3                    localstack/localstack            0            0   \n",
       "4                      education/classroom            0          589   \n",
       "...                                    ...          ...          ...   \n",
       "1047              Tyriar/canvas-astar.dart            2            1   \n",
       "1048      ankitkumar70777/github-slideshow            0            0   \n",
       "1049  aitikgupta/interactive_cpu_scheduler            0            5   \n",
       "1050                gwmccubbin/voting_dapp           11            5   \n",
       "1051               gamemann/All_PropHealth            4            3   \n",
       "\n",
       "      issues_count  pull_requests  contributors    language  \n",
       "0              612            316             2     Unknown  \n",
       "1              536              6            71     Unknown  \n",
       "2              313             27           154         C++  \n",
       "3              290             30           434      Python  \n",
       "4              202             22            67        Ruby  \n",
       "...            ...            ...           ...         ...  \n",
       "1047             1              0             0        Dart  \n",
       "1048             1              0             8        HTML  \n",
       "1049             1              1             7      Python  \n",
       "1050             1              0             0  JavaScript  \n",
       "1051             1              0             0  SourcePawn  \n",
       "\n",
       "[972 rows x 7 columns]"
      ]
     },
     "execution_count": 14,
     "metadata": {},
     "output_type": "execute_result"
    }
   ],
   "source": [
    "df"
   ]
  },
  {
   "cell_type": "code",
   "execution_count": 15,
   "metadata": {},
   "outputs": [
    {
     "data": {
      "text/plain": [
       "{'whiskers': [<matplotlib.lines.Line2D at 0x7fbd79a6bb90>,\n",
       "  <matplotlib.lines.Line2D at 0x7fbd79a8b890>],\n",
       " 'caps': [<matplotlib.lines.Line2D at 0x7fbd79a8bd90>,\n",
       "  <matplotlib.lines.Line2D at 0x7fbd79a84ed0>],\n",
       " 'boxes': [<matplotlib.lines.Line2D at 0x7fbd79a47d10>],\n",
       " 'medians': [<matplotlib.lines.Line2D at 0x7fbd79a96810>],\n",
       " 'fliers': [<matplotlib.lines.Line2D at 0x7fbd79a96d10>],\n",
       " 'means': []}"
      ]
     },
     "execution_count": 15,
     "metadata": {},
     "output_type": "execute_result"
    },
    {
     "data": {
      "image/png": "[encoded data removed]",
      "text/plain": [
       "<Figure size 432x288 with 5 Axes>"
      ]
     },
     "metadata": {
      "needs_background": "light"
     },
     "output_type": "display_data"
    }
   ],
   "source": [
    "stars = df['stars_count']\n",
    "forks = df['forks_count']\n",
    "issues = df['issues_count']\n",
    "pulls = df['pull_requests']\n",
    "contributors = df['contributors']\n",
    "fig, ax = plt.subplots(1, 5)\n",
    "ax[0].boxplot(stars)\n",
    "ax[1].boxplot(forks)\n",
    "ax[2].boxplot(issues)\n",
    "ax[3].boxplot(pulls)\n",
    "ax[4].boxplot(contributors)"
   ]
  },
  {
   "cell_type": "code",
   "execution_count": 16,
   "metadata": {},
   "outputs": [
    {
     "data": {
      "text/plain": [
       "<matplotlib.collections.PathCollection at 0x7fbd79bd9690>"
      ]
     },
     "execution_count": 16,
     "metadata": {},
     "output_type": "execute_result"
    },
    {
     "data": {
      "image/png": "[encoded data removed]",
      "text/plain": [
       "<Figure size 432x288 with 1 Axes>"
      ]
     },
     "metadata": {
      "needs_background": "light"
     },
     "output_type": "display_data"
    }
   ],
   "source": [
    "plt.scatter(np.log(stars+1), np.log(forks+1))\n",
    "# most are positive related"
   ]
  },
  {
   "cell_type": "code",
   "execution_count": 17,
   "metadata": {},
   "outputs": [
    {
     "data": {
      "image/png": "[encoded data removed]",
      "text/plain": [
       "<Figure size 432x288 with 25 Axes>"
      ]
     },
     "metadata": {
      "needs_background": "light"
     },
     "output_type": "display_data"
    }
   ],
   "source": [
    "# relateness between pairs of integer features\n",
    "stars = df['stars_count']\n",
    "forks = df['forks_count']\n",
    "issues = df['issues_count']\n",
    "pulls = df['pull_requests']\n",
    "contributors = df['contributors']\n",
    "choices = [stars, forks, issues, pulls, contributors]\n",
    "fig, ax = plt.subplots(5, 5)\n",
    "for i in range(5):\n",
    "    for j in range(5):\n",
    "        ax[i, j] = ax[i, j].scatter(choices[i], choices[j])"
   ]
  },
  {
   "cell_type": "code",
   "execution_count": 29,
   "metadata": {},
   "outputs": [],
   "source": [
    "def search_by_keyword(df, keyword):\n",
    "    def filter(name):\n",
    "        if keyword.lower() in name.lower():\n",
    "            return name\n",
    "        else:\n",
    "            return None\n",
    "    \n",
    "    df['repositories'] = df['repositories'].apply(filter)\n",
    "    df.dropna(inplace=True)\n",
    "    return df"
   ]
  },
  {
   "cell_type": "code",
   "execution_count": 31,
   "metadata": {},
   "outputs": [
    {
     "data": {
      "text/html": [
       "<div>\n",
       "<style scoped>\n",
       "    .dataframe tbody tr th:only-of-type {\n",
       "        vertical-align: middle;\n",
       "    }\n",
       "\n",
       "    .dataframe tbody tr th {\n",
       "        vertical-align: top;\n",
       "    }\n",
       "\n",
       "    .dataframe thead th {\n",
       "        text-align: right;\n",
       "    }\n",
       "</style>\n",
       "<table border=\"1\" class=\"dataframe\">\n",
       "  <thead>\n",
       "    <tr style=\"text-align: right;\">\n",
       "      <th></th>\n",
       "      <th>repositories</th>\n",
       "      <th>stars_count</th>\n",
       "      <th>forks_count</th>\n",
       "      <th>issues_count</th>\n",
       "      <th>pull_requests</th>\n",
       "      <th>contributors</th>\n",
       "      <th>language</th>\n",
       "    </tr>\n",
       "  </thead>\n",
       "  <tbody>\n",
       "    <tr>\n",
       "      <th>51</th>\n",
       "      <td>garimasingh128/awesome-python-projects</td>\n",
       "      <td>440</td>\n",
       "      <td>127</td>\n",
       "      <td>27</td>\n",
       "      <td>14</td>\n",
       "      <td>30</td>\n",
       "      <td>Jupyter Notebook</td>\n",
       "    </tr>\n",
       "    <tr>\n",
       "      <th>129</th>\n",
       "      <td>anshrathod/Basic-Python-Scripts</td>\n",
       "      <td>18</td>\n",
       "      <td>93</td>\n",
       "      <td>13</td>\n",
       "      <td>1</td>\n",
       "      <td>112</td>\n",
       "      <td>Python</td>\n",
       "    </tr>\n",
       "    <tr>\n",
       "      <th>160</th>\n",
       "      <td>donnemartin/data-science-ipython-notebooks</td>\n",
       "      <td>0</td>\n",
       "      <td>0</td>\n",
       "      <td>11</td>\n",
       "      <td>13</td>\n",
       "      <td>12</td>\n",
       "      <td>Python</td>\n",
       "    </tr>\n",
       "    <tr>\n",
       "      <th>375</th>\n",
       "      <td>sagesharp/python-code-of-conduct</td>\n",
       "      <td>2</td>\n",
       "      <td>103</td>\n",
       "      <td>4</td>\n",
       "      <td>0</td>\n",
       "      <td>0</td>\n",
       "      <td>Unknown</td>\n",
       "    </tr>\n",
       "    <tr>\n",
       "      <th>424</th>\n",
       "      <td>PragneshRamani/Coursera---Using-Python-to-Acce...</td>\n",
       "      <td>37</td>\n",
       "      <td>79</td>\n",
       "      <td>3</td>\n",
       "      <td>6</td>\n",
       "      <td>0</td>\n",
       "      <td>Python</td>\n",
       "    </tr>\n",
       "  </tbody>\n",
       "</table>\n",
       "</div>"
      ],
      "text/plain": [
       "                                          repositories  stars_count  \\\n",
       "51              garimasingh128/awesome-python-projects          440   \n",
       "129                    anshrathod/Basic-Python-Scripts           18   \n",
       "160         donnemartin/data-science-ipython-notebooks            0   \n",
       "375                   sagesharp/python-code-of-conduct            2   \n",
       "424  PragneshRamani/Coursera---Using-Python-to-Acce...           37   \n",
       "\n",
       "     forks_count  issues_count  pull_requests  contributors          language  \n",
       "51           127            27             14            30  Jupyter Notebook  \n",
       "129           93            13              1           112            Python  \n",
       "160            0            11             13            12            Python  \n",
       "375          103             4              0             0           Unknown  \n",
       "424           79             3              6             0            Python  "
      ]
     },
     "execution_count": 31,
     "metadata": {},
     "output_type": "execute_result"
    }
   ],
   "source": [
    "r1 = search_by_keyword(df, 'python')\n",
    "r1.head()"
   ]
  },
  {
   "cell_type": "code",
   "execution_count": null,
   "metadata": {},
   "outputs": [],
   "source": []
  }
 ],
 "metadata": {
  "kernelspec": {
   "display_name": "base",
   "language": "python",
   "name": "python3"
  },
  "language_info": {
   "codemirror_mode": {
    "name": "ipython",
    "version": 3
   },
   "file_extension": ".py",
   "mimetype": "text/x-python",
   "name": "python",
   "nbconvert_exporter": "python",
   "pygments_lexer": "ipython3",
   "version": "3.7.6"
  }
 },
 "nbformat": 4,
 "nbformat_minor": 2
}
